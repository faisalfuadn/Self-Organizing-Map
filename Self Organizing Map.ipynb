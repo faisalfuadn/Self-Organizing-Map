{
 "cells": [
  {
   "cell_type": "markdown",
   "metadata": {},
   "source": [
    "# Self Organizing Map"
   ]
  },
  {
   "cell_type": "code",
   "execution_count": 1,
   "metadata": {},
   "outputs": [],
   "source": [
    "#load the data\n",
    "import pandas as pd\n",
    "import os\n",
    "import numpy as np\n",
    "import math\n",
    "path=r'C:\\Users\\faisa\\OneDrive\\Documents\\Semester 2\\Data Mining\\Data'\n",
    "data=pd.read_csv(path + '\\iris.csv')"
   ]
  },
  {
   "cell_type": "code",
   "execution_count": 2,
   "metadata": {},
   "outputs": [
    {
     "data": {
      "text/html": [
       "<div>\n",
       "<style scoped>\n",
       "    .dataframe tbody tr th:only-of-type {\n",
       "        vertical-align: middle;\n",
       "    }\n",
       "\n",
       "    .dataframe tbody tr th {\n",
       "        vertical-align: top;\n",
       "    }\n",
       "\n",
       "    .dataframe thead th {\n",
       "        text-align: right;\n",
       "    }\n",
       "</style>\n",
       "<table border=\"1\" class=\"dataframe\">\n",
       "  <thead>\n",
       "    <tr style=\"text-align: right;\">\n",
       "      <th></th>\n",
       "      <th>sepal.length</th>\n",
       "      <th>sepal.width</th>\n",
       "      <th>petal.length</th>\n",
       "      <th>petal.width</th>\n",
       "      <th>variety</th>\n",
       "    </tr>\n",
       "  </thead>\n",
       "  <tbody>\n",
       "    <tr>\n",
       "      <th>0</th>\n",
       "      <td>5.1</td>\n",
       "      <td>3.5</td>\n",
       "      <td>1.4</td>\n",
       "      <td>0.2</td>\n",
       "      <td>Setosa</td>\n",
       "    </tr>\n",
       "    <tr>\n",
       "      <th>1</th>\n",
       "      <td>4.9</td>\n",
       "      <td>3.0</td>\n",
       "      <td>1.4</td>\n",
       "      <td>0.2</td>\n",
       "      <td>Setosa</td>\n",
       "    </tr>\n",
       "    <tr>\n",
       "      <th>2</th>\n",
       "      <td>4.7</td>\n",
       "      <td>3.2</td>\n",
       "      <td>1.3</td>\n",
       "      <td>0.2</td>\n",
       "      <td>Setosa</td>\n",
       "    </tr>\n",
       "    <tr>\n",
       "      <th>3</th>\n",
       "      <td>4.6</td>\n",
       "      <td>3.1</td>\n",
       "      <td>1.5</td>\n",
       "      <td>0.2</td>\n",
       "      <td>Setosa</td>\n",
       "    </tr>\n",
       "    <tr>\n",
       "      <th>4</th>\n",
       "      <td>5.0</td>\n",
       "      <td>3.6</td>\n",
       "      <td>1.4</td>\n",
       "      <td>0.2</td>\n",
       "      <td>Setosa</td>\n",
       "    </tr>\n",
       "  </tbody>\n",
       "</table>\n",
       "</div>"
      ],
      "text/plain": [
       "   sepal.length  sepal.width  petal.length  petal.width variety\n",
       "0           5.1          3.5           1.4          0.2  Setosa\n",
       "1           4.9          3.0           1.4          0.2  Setosa\n",
       "2           4.7          3.2           1.3          0.2  Setosa\n",
       "3           4.6          3.1           1.5          0.2  Setosa\n",
       "4           5.0          3.6           1.4          0.2  Setosa"
      ]
     },
     "execution_count": 2,
     "metadata": {},
     "output_type": "execute_result"
    }
   ],
   "source": [
    "data.head()"
   ]
  },
  {
   "cell_type": "code",
   "execution_count": 3,
   "metadata": {},
   "outputs": [],
   "source": [
    "#set input and target data\n",
    "target_column = ['variety'] \n",
    "predictors = list(set(list(data.columns))-set(target_column))\n",
    "\n",
    "X = data[predictors].values\n",
    "y = data[target_column].values"
   ]
  },
  {
   "cell_type": "code",
   "execution_count": 5,
   "metadata": {},
   "outputs": [],
   "source": [
    "#initializing parameter\n",
    "output_width=9\n",
    "output_height=9\n",
    "radius=math.sqrt((output_width-1)**2+(output_height-1)**2)\n",
    "r_rate=0.98\n",
    "lr=0.1\n",
    "\n",
    "#initializing weight\n",
    "w_new=np.average(X)*(np.random.rand(output_height,output_width, len(predictors)))\n",
    "w_old= np.zeros((output_height,output_width, len(predictors)))"
   ]
  },
  {
   "cell_type": "code",
   "execution_count": 6,
   "metadata": {},
   "outputs": [],
   "source": [
    "timestep=0\n",
    "e=0 #error\n",
    "iterations=500\n",
    "iteration=0\n",
    "state=0\n",
    "convergence=[]\n",
    "while iteration < iterations:\n",
    "    rand_index=np.random.randint(len(X), size=len(X))\n",
    "    conv=[]\n",
    "    for rands in rand_index:\n",
    "        error= np.linalg.norm(w_new - w_old) #change of weight value\n",
    "        if error<=e:\n",
    "            state=1\n",
    "            break\n",
    "        else:\n",
    "            distance= np.linalg.norm((X[rands]-w_new)**2, axis=2)\n",
    "            best_individu=np.unravel_index(np.argmin(distance, axis=None), distance.shape)\n",
    "            w_old=np.copy(w_new)\n",
    "            output_vector=np.zeros((output_height,output_width))\n",
    "            output_vector[best_individu[0]][best_individu[1]]=1\n",
    "            for height in range(output_height):\n",
    "                for width in range (output_width):\n",
    "                    neighborhood = math.exp(-math.sqrt(np.linalg.norm([(height - best_individu[0])**2, (width - best_individu[1])**2]))/radius)\n",
    "                    w_new[height][width] = w_new[height][width] + lr*(X[rands]-w_new[height][width])*neighborhood\n",
    "            lr = lr*(1-(iteration/iterations))\n",
    "            radius=radius*r_rate\n",
    "            timestep+=1\n",
    "            conv.append(np.amin(distance))\n",
    "    convergence.append(sum(conv))\n",
    "    if state==1:\n",
    "        break\n",
    "    iteration+=1"
   ]
  },
  {
   "cell_type": "code",
   "execution_count": 7,
   "metadata": {},
   "outputs": [
    {
     "data": {
      "image/png": "[encoded data removed]",
      "text/plain": [
       "<Figure size 432x288 with 1 Axes>"
      ]
     },
     "metadata": {
      "needs_background": "light"
     },
     "output_type": "display_data"
    },
    {
     "name": "stdout",
     "output_type": "stream",
     "text": [
      "Number of timesteps: 2233\n",
      "Final error: 0.0034989172110918496\n"
     ]
    }
   ],
   "source": [
    "import matplotlib.pyplot as plt\n",
    "plt.plot(convergence)\n",
    "plt.ylabel('sum min distance')\n",
    "plt.xlabel('iteration')\n",
    "plt.grid(True)\n",
    "#plt.yscale('log')\n",
    "plt.show()\n",
    "print('Number of timesteps: ' + str(timestep))\n",
    "print('Final error: ' + str(np.amin(distance)))"
   ]
  },
  {
   "cell_type": "code",
   "execution_count": 8,
   "metadata": {},
   "outputs": [
    {
     "name": "stdout",
     "output_type": "stream",
     "text": [
      "[[ 0.  1.  0.  1.  1.  4.  0. 15. 12.]\n",
      " [ 0.  0.  1.  0.  0.  1.  2.  3.  7.]\n",
      " [ 3.  0.  0.  0.  0.  0.  1.  5.  2.]\n",
      " [ 1.  0.  0.  0.  1.  2.  3.  2.  7.]\n",
      " [ 0.  0.  0.  0.  0.  0.  0.  1.  4.]\n",
      " [ 0.  0.  0.  0.  0.  2.  0.  0.  1.]\n",
      " [ 0.  0.  0.  0.  0.  0.  3.  1.  3.]\n",
      " [22.  0.  0.  0.  0.  0.  0.  6.  2.]\n",
      " [22.  6.  0.  0.  0.  0.  1.  0.  1.]]\n"
     ]
    }
   ],
   "source": [
    "best_individu = np.zeros([2],dtype=np.int32)\n",
    "result = np.zeros([output_height,output_width],dtype=np.float32)\n",
    "for dat in range(len(data)):\n",
    "    distance= np.linalg.norm(w_new - X[dat], axis=2)\n",
    "    best_individu=np.unravel_index(np.argmin(distance, axis=None), distance.shape)\n",
    "    result[best_individu[0]][best_individu[1]]+=1\n",
    "print (result)\n",
    "#np.savetxt(\"result.csv\", result, delimiter=\",\")"
   ]
  },
  {
   "cell_type": "code",
   "execution_count": 9,
   "metadata": {},
   "outputs": [
    {
     "data": {
      "image/png": "[encoded data removed]",
      "text/plain": [
       "<Figure size 432x288 with 1 Axes>"
      ]
     },
     "metadata": {
      "needs_background": "light"
     },
     "output_type": "display_data"
    }
   ],
   "source": [
    "#contour plot\n",
    "import matplotlib.pyplot as plt\n",
    "from mpl_toolkits.mplot3d import Axes3D\n",
    "X=np.asarray(np.arange(output_width))\n",
    "X=np.repeat(X, output_height)\n",
    "X=np.reshape(X,(output_width,output_height))\n",
    "\n",
    "Y=np.asarray(np.arange(output_height))\n",
    "Y=np.repeat(Y, output_width)\n",
    "Y=np.reshape(Y,(output_height,output_width))\n",
    "\n",
    "Z=result\n",
    "\n",
    "X = np.reshape(X, Z.shape)\n",
    "Y = np.reshape(Y, Z.shape)\n",
    "\n",
    "output = plt.subplot(111, projection = '3d')   # 3d projection\n",
    "output.plot_surface(X, Y, Z, rstride = 2, cstride = 1, cmap = plt.cm.binary)\n",
    "output.set_xlabel('x')                         # axis label\n",
    "output.set_xlabel('y')\n",
    "output.set_xlabel('z')\n",
    "\n",
    "plt.show()"
   ]
  },
  {
   "cell_type": "code",
   "execution_count": null,
   "metadata": {},
   "outputs": [],
   "source": []
  },
  {
   "cell_type": "code",
   "execution_count": null,
   "metadata": {},
   "outputs": [],
   "source": []
  }
 ],
 "metadata": {
  "kernelspec": {
   "display_name": "Python 3",
   "language": "python",
   "name": "python3"
  },
  "language_info": {
   "codemirror_mode": {
    "name": "ipython",
    "version": 3
   },
   "file_extension": ".py",
   "mimetype": "text/x-python",
   "name": "python",
   "nbconvert_exporter": "python",
   "pygments_lexer": "ipython3",
   "version": "3.8.5"
  }
 },
 "nbformat": 4,
 "nbformat_minor": 4
}
